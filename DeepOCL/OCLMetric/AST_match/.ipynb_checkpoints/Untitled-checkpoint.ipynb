{
 "cells": [
  {
   "cell_type": "code",
   "execution_count": 8,
   "id": "d19a165a-1531-4f59-bc11-e1488b49ca54",
   "metadata": {},
   "outputs": [
    {
     "name": "stdout",
     "output_type": "stream",
     "text": [
      "outgoing->forAll(oclIsKindOf(ControlFlow))\n",
      "outgoing->forAll(oclIsKindOf(ControlFlow))\n",
      "0.8888888888888888\n"
     ]
    }
   ],
   "source": [
    "from TreeMatch import Treematcher\n",
    "c='''outgoing->forAll(oclIsKindOf(ControlFlow))'''\n",
    "r='''outgoing->forAll(oclIsKindOf())'''\n",
    "\n",
    "print(Treematcher.calculate(c,r))"
   ]
  }
 ],
 "metadata": {
  "kernelspec": {
   "display_name": "Python 3 (ipykernel)",
   "language": "python",
   "name": "python3"
  },
  "language_info": {
   "codemirror_mode": {
    "name": "ipython",
    "version": 3
   },
   "file_extension": ".py",
   "mimetype": "text/x-python",
   "name": "python",
   "nbconvert_exporter": "python",
   "pygments_lexer": "ipython3",
   "version": "3.8.10"
  }
 },
 "nbformat": 4,
 "nbformat_minor": 5
}
