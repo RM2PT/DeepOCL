{
 "cells": [
  {
   "cell_type": "code",
   "execution_count": 2,
   "id": "d19a165a-1531-4f59-bc11-e1488b49ca54",
   "metadata": {},
   "outputs": [
    {
     "ename": "ModuleNotFoundError",
     "evalue": "No module named 'OCLMetric'",
     "output_type": "error",
     "traceback": [
      "\u001b[0;31m---------------------------------------------------------------------------\u001b[0m",
      "\u001b[0;31mModuleNotFoundError\u001b[0m                       Traceback (most recent call last)",
      "\u001b[0;32m/tmp/ipykernel_570/364940325.py\u001b[0m in \u001b[0;36m<module>\u001b[0;34m\u001b[0m\n\u001b[0;32m----> 1\u001b[0;31m \u001b[0;32mfrom\u001b[0m \u001b[0mTreeMatch\u001b[0m \u001b[0;32mimport\u001b[0m \u001b[0mTreematcher\u001b[0m\u001b[0;34m\u001b[0m\u001b[0;34m\u001b[0m\u001b[0m\n\u001b[0m\u001b[1;32m      2\u001b[0m \u001b[0mc\u001b[0m\u001b[0;34m=\u001b[0m\u001b[0;34m'''outgoing->forAll(oclIsKindOf(ControlFlow))'''\u001b[0m\u001b[0;34m\u001b[0m\u001b[0;34m\u001b[0m\u001b[0m\n\u001b[1;32m      3\u001b[0m \u001b[0mr\u001b[0m\u001b[0;34m=\u001b[0m\u001b[0;34m'''outgoing->forAll(oclIsKindOf())'''\u001b[0m\u001b[0;34m\u001b[0m\u001b[0;34m\u001b[0m\u001b[0m\n\u001b[1;32m      4\u001b[0m \u001b[0;34m\u001b[0m\u001b[0m\n\u001b[1;32m      5\u001b[0m \u001b[0mprint\u001b[0m\u001b[0;34m(\u001b[0m\u001b[0mTreematcher\u001b[0m\u001b[0;34m.\u001b[0m\u001b[0mcalculate\u001b[0m\u001b[0;34m(\u001b[0m\u001b[0mc\u001b[0m\u001b[0;34m,\u001b[0m\u001b[0mr\u001b[0m\u001b[0;34m)\u001b[0m\u001b[0;34m)\u001b[0m\u001b[0;34m\u001b[0m\u001b[0;34m\u001b[0m\u001b[0m\n",
      "\u001b[0;32m~/nL2OCL/nl2ocl/NL2OCL/DeepOCL/OCLMetric/AST_match/TreeMatch.py\u001b[0m in \u001b[0;36m<module>\u001b[0;34m\u001b[0m\n\u001b[1;32m      1\u001b[0m \u001b[0;32mfrom\u001b[0m \u001b[0mantlr4\u001b[0m \u001b[0;32mimport\u001b[0m \u001b[0;34m*\u001b[0m\u001b[0;34m\u001b[0m\u001b[0;34m\u001b[0m\u001b[0m\n\u001b[1;32m      2\u001b[0m \u001b[0;34m\u001b[0m\u001b[0m\n\u001b[0;32m----> 3\u001b[0;31m \u001b[0;32mfrom\u001b[0m \u001b[0mOCLMetric\u001b[0m\u001b[0;34m.\u001b[0m\u001b[0mAST_match\u001b[0m\u001b[0;34m.\u001b[0m\u001b[0mdist3\u001b[0m\u001b[0;34m.\u001b[0m\u001b[0mOclExpressionLexer\u001b[0m \u001b[0;32mimport\u001b[0m \u001b[0mOclExpressionLexer\u001b[0m\u001b[0;34m\u001b[0m\u001b[0;34m\u001b[0m\u001b[0m\n\u001b[0m\u001b[1;32m      4\u001b[0m \u001b[0;32mfrom\u001b[0m \u001b[0mOCLMetric\u001b[0m\u001b[0;34m.\u001b[0m\u001b[0mAST_match\u001b[0m\u001b[0;34m.\u001b[0m\u001b[0mdist3\u001b[0m\u001b[0;34m.\u001b[0m\u001b[0mOclExpressionParser\u001b[0m \u001b[0;32mimport\u001b[0m \u001b[0mOclExpressionParser\u001b[0m\u001b[0;34m\u001b[0m\u001b[0;34m\u001b[0m\u001b[0m\n\u001b[1;32m      5\u001b[0m \u001b[0;32mfrom\u001b[0m \u001b[0mOCLMetric\u001b[0m\u001b[0;34m.\u001b[0m\u001b[0mAST_match\u001b[0m\u001b[0;34m.\u001b[0m\u001b[0mdist3\u001b[0m\u001b[0;34m.\u001b[0m\u001b[0mOclExpressionVisitor\u001b[0m \u001b[0;32mimport\u001b[0m \u001b[0mOclExpressionVisitor\u001b[0m\u001b[0;34m\u001b[0m\u001b[0;34m\u001b[0m\u001b[0m\n",
      "\u001b[0;31mModuleNotFoundError\u001b[0m: No module named 'OCLMetric'"
     ]
    }
   ],
   "source": [
    "from TreeMatch import Treematcher\n",
    "c='''outgoing->forAll(oclIsKindOf(ControlFlow))'''\n",
    "r='''outgoing->forAll(oclIsKindOf())'''\n",
    "\n",
    "print(Treematcher.calculate(c,r))"
   ]
  },
  {
   "cell_type": "code",
   "execution_count": null,
   "id": "0eafe7fe-6cb8-49fc-8623-49a8aad0ca9e",
   "metadata": {},
   "outputs": [],
   "source": []
  }
 ],
 "metadata": {
  "kernelspec": {
   "display_name": "Python 3 (ipykernel)",
   "language": "python",
   "name": "python3"
  },
  "language_info": {
   "codemirror_mode": {
    "name": "ipython",
    "version": 3
   },
   "file_extension": ".py",
   "mimetype": "text/x-python",
   "name": "python",
   "nbconvert_exporter": "python",
   "pygments_lexer": "ipython3",
   "version": "3.8.10"
  }
 },
 "nbformat": 4,
 "nbformat_minor": 5
}
