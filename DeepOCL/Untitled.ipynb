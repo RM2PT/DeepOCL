{
 "cells": [
  {
   "cell_type": "code",
   "execution_count": 1,
   "id": "c76b00e5-fb35-4357-800c-1b16b344d41f",
   "metadata": {},
   "outputs": [
    {
     "name": "stdout",
     "output_type": "stream",
     "text": [
      "aa\n",
      "0.8888888888888888\n"
     ]
    }
   ],
   "source": [
    "from OCLMetric.AST_match.TreeMatch import Treematcher\n",
    "c='''outgoing->forAll(oclIsKindOf(ControlFlow))'''\n",
    "r='''outgoing->forAll(oclIsKindOf())'''\n",
    "print('aa')\n",
    "print(Treematcher.calculate(c,r))"
   ]
  },
  {
   "cell_type": "code",
   "execution_count": 32,
   "id": "b5486e1f-b1b3-4a5a-b405-ef8d472289d6",
   "metadata": {},
   "outputs": [
    {
     "name": "stdout",
     "output_type": "stream",
     "text": [
      "['/root/nL2OCL/nl2ocl/NL2OCL/DeepOCL', '/root/miniconda3/lib/python38.zip', '/root/miniconda3/lib/python3.8', '/root/miniconda3/lib/python3.8/lib-dynload', '', '/root/miniconda3/lib/python3.8/site-packages', '/root/miniconda3/lib/python3.8/site-packages/IPython/extensions', '/root/.ipython']\n"
     ]
    }
   ],
   "source": [
    "import sys\n",
    "print (sys.path)"
   ]
  },
  {
   "cell_type": "code",
   "execution_count": 2,
   "id": "ace0e92a-2c75-4b08-8b96-c5341dfabc2e",
   "metadata": {},
   "outputs": [
    {
     "name": "stdout",
     "output_type": "stream",
     "text": [
      "{'bleu': {'score': 66.06329, 'counts': [8, 6, 4, 3], 'totals': [9, 8, 7, 6], 'precisions': [88.88888888888889, 75.0, 57.142857142857146, 50.0], 'bp': 1.0, 'sys_len': 9, 'ref_len': 8}, 'key': {'keywords': {'valid': 0, 'ref_num': 0, 'pre_num': 0, 'score': None}, 'obj_properties': {'valid': 1, 'ref_num': 1, 'pre_num': 1, 'score': 100.0}, 'lib_opt': {'valid': 1, 'ref_num': 1, 'pre_num': 1, 'score': 100.0}, 'positive': True, 'score': 100.0}, 'score': 81.88777}\n"
     ]
    }
   ],
   "source": [
    "from OCLMetric.key_match import  key_match_metric\n",
    "from OCLMetric.Sacrebleu import Sacrebleu\n",
    "print( key_match_metric().compute(predictions=c,references=r))"
   ]
  },
  {
   "cell_type": "code",
   "execution_count": 2,
   "id": "5b88bf1e-ce0f-4712-a0d6-204e96dfd588",
   "metadata": {},
   "outputs": [
    {
     "ename": "ModuleNotFoundError",
     "evalue": "No module named 'Sacrebleu'",
     "output_type": "error",
     "traceback": [
      "\u001b[0;31m---------------------------------------------------------------------------\u001b[0m",
      "\u001b[0;31mModuleNotFoundError\u001b[0m                       Traceback (most recent call last)",
      "\u001b[0;32m/tmp/ipykernel_105/86136068.py\u001b[0m in \u001b[0;36m<module>\u001b[0;34m\u001b[0m\n\u001b[0;32m----> 1\u001b[0;31m \u001b[0;32mfrom\u001b[0m \u001b[0mOCLMetric\u001b[0m\u001b[0;34m.\u001b[0m\u001b[0mkey_match\u001b[0m \u001b[0;32mimport\u001b[0m \u001b[0mkey_match_metric\u001b[0m\u001b[0;34m\u001b[0m\u001b[0;34m\u001b[0m\u001b[0m\n\u001b[0m",
      "\u001b[0;32m~/nL2OCL/nl2ocl/NL2OCL/DeepOCL/OCLMetric/key_match.py\u001b[0m in \u001b[0;36m<module>\u001b[0;34m\u001b[0m\n\u001b[1;32m      1\u001b[0m \u001b[0;32mfrom\u001b[0m \u001b[0mdatasets\u001b[0m \u001b[0;32mimport\u001b[0m \u001b[0mload_metric\u001b[0m\u001b[0;34m\u001b[0m\u001b[0;34m\u001b[0m\u001b[0m\n\u001b[0;32m----> 2\u001b[0;31m \u001b[0;32mfrom\u001b[0m \u001b[0mSacrebleu\u001b[0m \u001b[0;32mimport\u001b[0m \u001b[0;34m*\u001b[0m\u001b[0;34m\u001b[0m\u001b[0;34m\u001b[0m\u001b[0m\n\u001b[0m\u001b[1;32m      3\u001b[0m \u001b[0;32mfrom\u001b[0m \u001b[0mAST_match\u001b[0m\u001b[0;34m.\u001b[0m\u001b[0mTreeMatch\u001b[0m \u001b[0;32mimport\u001b[0m \u001b[0mTreematcher\u001b[0m\u001b[0;34m\u001b[0m\u001b[0;34m\u001b[0m\u001b[0m\n\u001b[1;32m      4\u001b[0m \u001b[0;34m\u001b[0m\u001b[0m\n\u001b[1;32m      5\u001b[0m \u001b[0;32mclass\u001b[0m \u001b[0mkey_match_metric\u001b[0m\u001b[0;34m(\u001b[0m\u001b[0;34m)\u001b[0m\u001b[0;34m:\u001b[0m\u001b[0;34m\u001b[0m\u001b[0;34m\u001b[0m\u001b[0m\n",
      "\u001b[0;31mModuleNotFoundError\u001b[0m: No module named 'Sacrebleu'"
     ]
    }
   ],
   "source": [
    "from OCLMetric.key_match import key_match_metric"
   ]
  },
  {
   "cell_type": "code",
   "execution_count": 19,
   "id": "beda717e-ff8b-4edc-b6f6-3204a5ce1f67",
   "metadata": {},
   "outputs": [
    {
     "ename": "NameError",
     "evalue": "name 'sys' is not defined",
     "output_type": "error",
     "traceback": [
      "\u001b[0;31m---------------------------------------------------------------------------\u001b[0m",
      "\u001b[0;31mNameError\u001b[0m                                 Traceback (most recent call last)",
      "\u001b[0;32m/tmp/ipykernel_166/3030671174.py\u001b[0m in \u001b[0;36m<module>\u001b[0;34m\u001b[0m\n\u001b[0;32m----> 1\u001b[0;31m \u001b[0mprint\u001b[0m\u001b[0;34m(\u001b[0m\u001b[0msys\u001b[0m\u001b[0;34m.\u001b[0m\u001b[0mpath\u001b[0m\u001b[0;34m)\u001b[0m\u001b[0;34m\u001b[0m\u001b[0;34m\u001b[0m\u001b[0m\n\u001b[0m",
      "\u001b[0;31mNameError\u001b[0m: name 'sys' is not defined"
     ]
    }
   ],
   "source": [
    "print(sys.path)"
   ]
  }
 ],
 "metadata": {
  "kernelspec": {
   "display_name": "Python 3 (ipykernel)",
   "language": "python",
   "name": "python3"
  },
  "language_info": {
   "codemirror_mode": {
    "name": "ipython",
    "version": 3
   },
   "file_extension": ".py",
   "mimetype": "text/x-python",
   "name": "python",
   "nbconvert_exporter": "python",
   "pygments_lexer": "ipython3",
   "version": "3.8.10"
  }
 },
 "nbformat": 4,
 "nbformat_minor": 5
}
